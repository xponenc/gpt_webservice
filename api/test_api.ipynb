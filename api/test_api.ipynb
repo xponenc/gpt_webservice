{
 "cells": [
  {
   "cell_type": "code",
   "execution_count": 3,
   "metadata": {},
   "outputs": [
    {
     "name": "stdout",
     "output_type": "stream",
     "text": [
      "Selected Jupyter core packages...\n",
      "IPython          : 8.32.0\n",
      "ipykernel        : 6.29.5\n",
      "ipywidgets       : 8.1.5\n",
      "jupyter_client   : 8.6.3\n",
      "jupyter_core     : 5.7.2\n",
      "jupyter_server   : 2.15.0\n",
      "jupyterlab       : 4.3.5\n",
      "nbclient         : 0.10.2\n",
      "nbconvert        : 7.16.6\n",
      "nbformat         : 5.10.4\n",
      "notebook         : 7.3.2\n",
      "qtconsole        : not installed\n",
      "traitlets        : 5.14.3\n",
      "Requirement already satisfied: requests in d:\\gpt_projects\\gpt_webservice\\.venv\\lib\\site-packages (2.32.3)\n",
      "Requirement already satisfied: charset-normalizer<4,>=2 in d:\\gpt_projects\\gpt_webservice\\.venv\\lib\\site-packages (from requests) (3.4.1)\n",
      "Requirement already satisfied: idna<4,>=2.5 in d:\\gpt_projects\\gpt_webservice\\.venv\\lib\\site-packages (from requests) (3.10)\n",
      "Requirement already satisfied: urllib3<3,>=1.21.1 in d:\\gpt_projects\\gpt_webservice\\.venv\\lib\\site-packages (from requests) (2.3.0)\n",
      "Requirement already satisfied: certifi>=2017.4.17 in d:\\gpt_projects\\gpt_webservice\\.venv\\lib\\site-packages (from requests) (2024.12.14)\n"
     ]
    }
   ],
   "source": [
    "!jupyter --version\n",
    "!pip install requests\n",
    "import requests"
   ]
  },
  {
   "cell_type": "code",
   "execution_count": 6,
   "metadata": {},
   "outputs": [
    {
     "name": "stdout",
     "output_type": "stream",
     "text": [
      "Status Code: 200\n",
      "{\"message\":\"API GPT\"}\n",
      "{'message': 'API GPT'}\n"
     ]
    }
   ],
   "source": [
    "url = \"http://127.0.0.1:8000/\"\n",
    "response = requests.get(url)\n",
    "\n",
    "print(\"Status Code:\", response.status_code)\n",
    "print(response.text)\n",
    "print(response.json())"
   ]
  },
  {
   "cell_type": "code",
   "execution_count": 7,
   "metadata": {},
   "outputs": [
    {
     "name": "stdout",
     "output_type": "stream",
     "text": [
      "Status Code: 200\n",
      "{\"request counter\":0}\n",
      "{'request counter': 0}\n"
     ]
    }
   ],
   "source": [
    "url = \"http://127.0.0.1:8000/counter\"\n",
    "response = requests.get(url)\n",
    "\n",
    "print(\"Status Code:\", response.status_code)\n",
    "print(response.text)\n",
    "print(response.json())"
   ]
  },
  {
   "cell_type": "code",
   "execution_count": 11,
   "metadata": {},
   "outputs": [
    {
     "name": "stdout",
     "output_type": "stream",
     "text": [
      "Status Code: 200\n",
      "{\"message\":\"Я профессиональный специалист в области страхования, работающий в страховой компании Simba. Я здесь, чтобы помочь вам с вопросами, связанными со страхованием. Если у вас есть какие-либо вопросы, не стесняйтесь задавать!\"}\n",
      "{'message': 'Я профессиональный специалист в области страхования, работающий в страховой компании Simba. Я здесь, чтобы помочь вам с вопросами, связанными со страхованием. Если у вас есть какие-либо вопросы, не стесняйтесь задавать!'}\n"
     ]
    }
   ],
   "source": [
    "url = \"http://127.0.0.1:8000/ask\"\n",
    "params = {\n",
    "  \"text\": \"Кто ты?\"\n",
    "}\n",
    "response = requests.post(url, json = params)\n",
    "print(\"Status Code:\", response.status_code)\n",
    "print(response.text)\n",
    "print(response.json())"
   ]
  },
  {
   "cell_type": "code",
   "execution_count": 12,
   "metadata": {},
   "outputs": [
    {
     "name": "stdout",
     "output_type": "stream",
     "text": [
      "Status Code: 200\n",
      "{\"request counter\":1}\n",
      "{'request counter': 1}\n"
     ]
    }
   ],
   "source": [
    "url = \"http://127.0.0.1:8000/counter\"\n",
    "response = requests.get(url)\n",
    "\n",
    "print(\"Status Code:\", response.status_code)\n",
    "print(response.text)\n",
    "print(response.json())"
   ]
  },
  {
   "cell_type": "code",
   "execution_count": 13,
   "metadata": {},
   "outputs": [
    {
     "name": "stdout",
     "output_type": "stream",
     "text": [
      "Status Code: 200\n",
      "{\"message\":\"В нашей компании можно застраховать имущественные интересы, связанные с рисками, возникающими в процессе производственной деятельности. Это включает в себя гражданскую ответственность за причинение вреда жизни, здоровью и имуществу юридических или физических лиц, а также различные риски, связанные с деятельностью, которую вы осуществляете.\"}\n",
      "{'message': 'В нашей компании можно застраховать имущественные интересы, связанные с рисками, возникающими в процессе производственной деятельности. Это включает в себя гражданскую ответственность за причинение вреда жизни, здоровью и имуществу юридических или физических лиц, а также различные риски, связанные с деятельностью, которую вы осуществляете.'}\n"
     ]
    }
   ],
   "source": [
    "url = \"http://127.0.0.1:8000/ask\"\n",
    "params = {\n",
    "  \"text\": \"Что у вас можно застраховать?\"\n",
    "}\n",
    "response = requests.post(url, json = params)\n",
    "print(\"Status Code:\", response.status_code)\n",
    "print(response.text)\n",
    "print(response.json())"
   ]
  },
  {
   "cell_type": "code",
   "execution_count": 14,
   "metadata": {},
   "outputs": [
    {
     "name": "stdout",
     "output_type": "stream",
     "text": [
      "Status Code: 200\n",
      "{\"request counter\":2}\n",
      "{'request counter': 2}\n"
     ]
    }
   ],
   "source": [
    "url = \"http://127.0.0.1:8000/counter\"\n",
    "response = requests.get(url)\n",
    "\n",
    "print(\"Status Code:\", response.status_code)\n",
    "print(response.text)\n",
    "print(response.json())"
   ]
  },
  {
   "cell_type": "code",
   "execution_count": null,
   "metadata": {},
   "outputs": [],
   "source": []
  }
 ],
 "metadata": {
  "kernelspec": {
   "display_name": "Python 3 (ipykernel)",
   "language": "python",
   "name": "python3"
  },
  "language_info": {
   "codemirror_mode": {
    "name": "ipython",
    "version": 3
   },
   "file_extension": ".py",
   "mimetype": "text/x-python",
   "name": "python",
   "nbconvert_exporter": "python",
   "pygments_lexer": "ipython3",
   "version": "3.12.3"
  }
 },
 "nbformat": 4,
 "nbformat_minor": 4
}
